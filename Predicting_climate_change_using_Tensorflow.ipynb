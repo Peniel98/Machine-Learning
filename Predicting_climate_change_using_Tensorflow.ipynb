{
  "cells": [
    {
      "cell_type": "code",
      "execution_count": null,
      "metadata": {
        "id": "HFL6Y8Nybp26"
      },
      "outputs": [],
      "source": []
    },
    {
      "cell_type": "code",
      "execution_count": null,
      "metadata": {
        "id": "EE0IRCmQHIhv"
      },
      "outputs": [],
      "source": [
        "import numpy as np\n",
        "np.random.seed(123)\n",
        "\n",
        "import matplotlib.pyplot as plt\n",
        "import pandas as pd\n",
        "import math\n",
        "\n",
        "import tensorflow as tf\n",
        "#tf.set_random_seed(1234)\n",
        "\n",
        "import keras\n",
        "from keras.models import Sequential\n",
        "from keras.layers import Dense\n",
        "from keras.layers import LSTM, SimpleRNN\n",
        "from sklearn.metrics import mean_squared_error\n",
        "\n",
        "%matplotlib inline"
      ]
    },
    {
      "cell_type": "code",
      "execution_count": null,
      "metadata": {
        "colab": {
          "background_save": true,
          "base_uri": "https://localhost:8080/",
          "height": 73,
          "resources": {
            "http://localhost:8080/nbextensions/google.colab/files.js": {
              "data": "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",
              "headers": [
                [
                  "content-type",
                  "application/javascript"
                ]
              ],
              "ok": true,
              "status": 200,
              "status_text": ""
            }
          }
        },
        "id": "5H9PlwOhHQPj",
        "outputId": "c3f44e9e-4f19-4431-8534-aedb2478a6ab"
      },
      "outputs": [
        {
          "data": {
            "text/html": [
              "\n",
              "     <input type=\"file\" id=\"files-a87235df-2d9c-44c2-90af-435855650199\" name=\"files[]\" multiple disabled\n",
              "        style=\"border:none\" />\n",
              "     <output id=\"result-a87235df-2d9c-44c2-90af-435855650199\">\n",
              "      Upload widget is only available when the cell has been executed in the\n",
              "      current browser session. Please rerun this cell to enable.\n",
              "      </output>\n",
              "      <script src=\"/nbextensions/google.colab/files.js\"></script> "
            ],
            "text/plain": [
              "<IPython.core.display.HTML object>"
            ]
          },
          "metadata": {},
          "output_type": "display_data"
        }
      ],
      "source": [
        "from google.colab import files\n",
        "\n",
        "import pandas as pd\n",
        "\n",
        "upload = files.upload()"
      ]
    },
    {
      "cell_type": "code",
      "execution_count": null,
      "metadata": {
        "colab": {
          "base_uri": "https://localhost:8080/",
          "height": 206
        },
        "id": "-p8vcurdHfGB",
        "outputId": "70c99f9b-a39f-4cf4-bf8b-47fa74aeaad9"
      },
      "outputs": [
        {
          "data": {
            "text/html": [
              "\n",
              "  <div id=\"df-f407550b-1fdc-4d27-b71e-202840bfd2a0\">\n",
              "    <div class=\"colab-df-container\">\n",
              "      <div>\n",
              "<style scoped>\n",
              "    .dataframe tbody tr th:only-of-type {\n",
              "        vertical-align: middle;\n",
              "    }\n",
              "\n",
              "    .dataframe tbody tr th {\n",
              "        vertical-align: top;\n",
              "    }\n",
              "\n",
              "    .dataframe thead th {\n",
              "        text-align: right;\n",
              "    }\n",
              "</style>\n",
              "<table border=\"1\" class=\"dataframe\">\n",
              "  <thead>\n",
              "    <tr style=\"text-align: right;\">\n",
              "      <th></th>\n",
              "      <th>YEAR</th>\n",
              "      <th>MO</th>\n",
              "      <th>DY</th>\n",
              "      <th>HR</th>\n",
              "      <th>PS</th>\n",
              "      <th>WS10M</th>\n",
              "      <th>WD10M</th>\n",
              "      <th>WS50M</th>\n",
              "      <th>RH2M</th>\n",
              "      <th>PRECTOTCORR</th>\n",
              "      <th>T2M</th>\n",
              "    </tr>\n",
              "  </thead>\n",
              "  <tbody>\n",
              "    <tr>\n",
              "      <th>0</th>\n",
              "      <td>2020</td>\n",
              "      <td>5</td>\n",
              "      <td>1</td>\n",
              "      <td>0</td>\n",
              "      <td>101.05</td>\n",
              "      <td>2.49</td>\n",
              "      <td>264.79</td>\n",
              "      <td>3.32</td>\n",
              "      <td>90.12</td>\n",
              "      <td>0.08</td>\n",
              "      <td>26.15</td>\n",
              "    </tr>\n",
              "    <tr>\n",
              "      <th>1</th>\n",
              "      <td>2020</td>\n",
              "      <td>5</td>\n",
              "      <td>1</td>\n",
              "      <td>1</td>\n",
              "      <td>100.97</td>\n",
              "      <td>2.31</td>\n",
              "      <td>260.06</td>\n",
              "      <td>3.05</td>\n",
              "      <td>90.25</td>\n",
              "      <td>0.12</td>\n",
              "      <td>26.02</td>\n",
              "    </tr>\n",
              "    <tr>\n",
              "      <th>2</th>\n",
              "      <td>2020</td>\n",
              "      <td>5</td>\n",
              "      <td>1</td>\n",
              "      <td>2</td>\n",
              "      <td>100.92</td>\n",
              "      <td>2.20</td>\n",
              "      <td>254.14</td>\n",
              "      <td>2.85</td>\n",
              "      <td>90.19</td>\n",
              "      <td>0.19</td>\n",
              "      <td>25.91</td>\n",
              "    </tr>\n",
              "    <tr>\n",
              "      <th>3</th>\n",
              "      <td>2020</td>\n",
              "      <td>5</td>\n",
              "      <td>1</td>\n",
              "      <td>3</td>\n",
              "      <td>100.90</td>\n",
              "      <td>2.23</td>\n",
              "      <td>250.36</td>\n",
              "      <td>2.88</td>\n",
              "      <td>90.00</td>\n",
              "      <td>0.19</td>\n",
              "      <td>25.87</td>\n",
              "    </tr>\n",
              "    <tr>\n",
              "      <th>4</th>\n",
              "      <td>2020</td>\n",
              "      <td>5</td>\n",
              "      <td>1</td>\n",
              "      <td>4</td>\n",
              "      <td>100.92</td>\n",
              "      <td>2.24</td>\n",
              "      <td>247.20</td>\n",
              "      <td>2.88</td>\n",
              "      <td>90.00</td>\n",
              "      <td>0.15</td>\n",
              "      <td>25.83</td>\n",
              "    </tr>\n",
              "  </tbody>\n",
              "</table>\n",
              "</div>\n",
              "      <button class=\"colab-df-convert\" onclick=\"convertToInteractive('df-f407550b-1fdc-4d27-b71e-202840bfd2a0')\"\n",
              "              title=\"Convert this dataframe to an interactive table.\"\n",
              "              style=\"display:none;\">\n",
              "        \n",
              "  <svg xmlns=\"http://www.w3.org/2000/svg\" height=\"24px\"viewBox=\"0 0 24 24\"\n",
              "       width=\"24px\">\n",
              "    <path d=\"M0 0h24v24H0V0z\" fill=\"none\"/>\n",
              "    <path d=\"M18.56 5.44l.94 2.06.94-2.06 2.06-.94-2.06-.94-.94-2.06-.94 2.06-2.06.94zm-11 1L8.5 8.5l.94-2.06 2.06-.94-2.06-.94L8.5 2.5l-.94 2.06-2.06.94zm10 10l.94 2.06.94-2.06 2.06-.94-2.06-.94-.94-2.06-.94 2.06-2.06.94z\"/><path d=\"M17.41 7.96l-1.37-1.37c-.4-.4-.92-.59-1.43-.59-.52 0-1.04.2-1.43.59L10.3 9.45l-7.72 7.72c-.78.78-.78 2.05 0 2.83L4 21.41c.39.39.9.59 1.41.59.51 0 1.02-.2 1.41-.59l7.78-7.78 2.81-2.81c.8-.78.8-2.07 0-2.86zM5.41 20L4 18.59l7.72-7.72 1.47 1.35L5.41 20z\"/>\n",
              "  </svg>\n",
              "      </button>\n",
              "      \n",
              "  <style>\n",
              "    .colab-df-container {\n",
              "      display:flex;\n",
              "      flex-wrap:wrap;\n",
              "      gap: 12px;\n",
              "    }\n",
              "\n",
              "    .colab-df-convert {\n",
              "      background-color: #E8F0FE;\n",
              "      border: none;\n",
              "      border-radius: 50%;\n",
              "      cursor: pointer;\n",
              "      display: none;\n",
              "      fill: #1967D2;\n",
              "      height: 32px;\n",
              "      padding: 0 0 0 0;\n",
              "      width: 32px;\n",
              "    }\n",
              "\n",
              "    .colab-df-convert:hover {\n",
              "      background-color: #E2EBFA;\n",
              "      box-shadow: 0px 1px 2px rgba(60, 64, 67, 0.3), 0px 1px 3px 1px rgba(60, 64, 67, 0.15);\n",
              "      fill: #174EA6;\n",
              "    }\n",
              "\n",
              "    [theme=dark] .colab-df-convert {\n",
              "      background-color: #3B4455;\n",
              "      fill: #D2E3FC;\n",
              "    }\n",
              "\n",
              "    [theme=dark] .colab-df-convert:hover {\n",
              "      background-color: #434B5C;\n",
              "      box-shadow: 0px 1px 3px 1px rgba(0, 0, 0, 0.15);\n",
              "      filter: drop-shadow(0px 1px 2px rgba(0, 0, 0, 0.3));\n",
              "      fill: #FFFFFF;\n",
              "    }\n",
              "  </style>\n",
              "\n",
              "      <script>\n",
              "        const buttonEl =\n",
              "          document.querySelector('#df-f407550b-1fdc-4d27-b71e-202840bfd2a0 button.colab-df-convert');\n",
              "        buttonEl.style.display =\n",
              "          google.colab.kernel.accessAllowed ? 'block' : 'none';\n",
              "\n",
              "        async function convertToInteractive(key) {\n",
              "          const element = document.querySelector('#df-f407550b-1fdc-4d27-b71e-202840bfd2a0');\n",
              "          const dataTable =\n",
              "            await google.colab.kernel.invokeFunction('convertToInteractive',\n",
              "                                                     [key], {});\n",
              "          if (!dataTable) return;\n",
              "\n",
              "          const docLinkHtml = 'Like what you see? Visit the ' +\n",
              "            '<a target=\"_blank\" href=https://colab.research.google.com/notebooks/data_table.ipynb>data table notebook</a>'\n",
              "            + ' to learn more about interactive tables.';\n",
              "          element.innerHTML = '';\n",
              "          dataTable['output_type'] = 'display_data';\n",
              "          await google.colab.output.renderOutput(dataTable, element);\n",
              "          const docLink = document.createElement('div');\n",
              "          docLink.innerHTML = docLinkHtml;\n",
              "          element.appendChild(docLink);\n",
              "        }\n",
              "      </script>\n",
              "    </div>\n",
              "  </div>\n",
              "  "
            ],
            "text/plain": [
              "   YEAR  MO  DY  HR      PS  WS10M   WD10M  WS50M   RH2M  PRECTOTCORR    T2M\n",
              "0  2020   5   1   0  101.05   2.49  264.79   3.32  90.12         0.08  26.15\n",
              "1  2020   5   1   1  100.97   2.31  260.06   3.05  90.25         0.12  26.02\n",
              "2  2020   5   1   2  100.92   2.20  254.14   2.85  90.19         0.19  25.91\n",
              "3  2020   5   1   3  100.90   2.23  250.36   2.88  90.00         0.19  25.87\n",
              "4  2020   5   1   4  100.92   2.24  247.20   2.88  90.00         0.15  25.83"
            ]
          },
          "execution_count": 3,
          "metadata": {},
          "output_type": "execute_result"
        }
      ],
      "source": [
        "df1 = pd.read_csv('Newsdataser.csv',skiprows = 15)\n",
        "df1.head()"
      ]
    },
    {
      "cell_type": "markdown",
      "metadata": {
        "id": "4qJRxM613qa0"
      },
      "source": [
        "Percentage of Missing data per feature "
      ]
    },
    {
      "cell_type": "code",
      "execution_count": null,
      "metadata": {
        "colab": {
          "base_uri": "https://localhost:8080/"
        },
        "id": "Hk4C6Usj2NiD",
        "outputId": "e399bbe5-9b50-48f0-b299-e739b5219c1d"
      },
      "outputs": [
        {
          "data": {
            "text/plain": [
              "YEAR           0.0\n",
              "MO             0.0\n",
              "DY             0.0\n",
              "HR             0.0\n",
              "PS             0.0\n",
              "WS10M          0.0\n",
              "WD10M          0.0\n",
              "WS50M          0.0\n",
              "RH2M           0.0\n",
              "PRECTOTCORR    0.0\n",
              "T2M            0.0\n",
              "dtype: float64"
            ]
          },
          "execution_count": 4,
          "metadata": {},
          "output_type": "execute_result"
        }
      ],
      "source": [
        "df1.isnull().sum() * 100 / len(df1)"
      ]
    },
    {
      "cell_type": "code",
      "execution_count": null,
      "metadata": {
        "colab": {
          "base_uri": "https://localhost:8080/",
          "height": 424
        },
        "id": "jca0LaYFfbmU",
        "outputId": "5a8210a4-b8a1-4d41-a6e6-15303452872d"
      },
      "outputs": [
        {
          "data": {
            "text/html": [
              "\n",
              "  <div id=\"df-1267b3c7-bacb-4546-9e5d-09daa336860d\">\n",
              "    <div class=\"colab-df-container\">\n",
              "      <div>\n",
              "<style scoped>\n",
              "    .dataframe tbody tr th:only-of-type {\n",
              "        vertical-align: middle;\n",
              "    }\n",
              "\n",
              "    .dataframe tbody tr th {\n",
              "        vertical-align: top;\n",
              "    }\n",
              "\n",
              "    .dataframe thead th {\n",
              "        text-align: right;\n",
              "    }\n",
              "</style>\n",
              "<table border=\"1\" class=\"dataframe\">\n",
              "  <thead>\n",
              "    <tr style=\"text-align: right;\">\n",
              "      <th></th>\n",
              "      <th>YEAR</th>\n",
              "      <th>MO</th>\n",
              "      <th>DY</th>\n",
              "      <th>HR</th>\n",
              "      <th>PS</th>\n",
              "      <th>Wx</th>\n",
              "      <th>Wy</th>\n",
              "      <th>WS50M</th>\n",
              "      <th>RH2M</th>\n",
              "      <th>PRECTOTCORR</th>\n",
              "      <th>T2M</th>\n",
              "    </tr>\n",
              "  </thead>\n",
              "  <tbody>\n",
              "    <tr>\n",
              "      <th>0</th>\n",
              "      <td>2020</td>\n",
              "      <td>5</td>\n",
              "      <td>1</td>\n",
              "      <td>0</td>\n",
              "      <td>101.05</td>\n",
              "      <td>-0.226106</td>\n",
              "      <td>-0.000889</td>\n",
              "      <td>3.32</td>\n",
              "      <td>90.12</td>\n",
              "      <td>0.08</td>\n",
              "      <td>26.15</td>\n",
              "    </tr>\n",
              "    <tr>\n",
              "      <th>1</th>\n",
              "      <td>2020</td>\n",
              "      <td>5</td>\n",
              "      <td>1</td>\n",
              "      <td>1</td>\n",
              "      <td>100.97</td>\n",
              "      <td>-0.398735</td>\n",
              "      <td>-0.002733</td>\n",
              "      <td>3.05</td>\n",
              "      <td>90.25</td>\n",
              "      <td>0.12</td>\n",
              "      <td>26.02</td>\n",
              "    </tr>\n",
              "    <tr>\n",
              "      <th>2</th>\n",
              "      <td>2020</td>\n",
              "      <td>5</td>\n",
              "      <td>1</td>\n",
              "      <td>2</td>\n",
              "      <td>100.92</td>\n",
              "      <td>-0.601202</td>\n",
              "      <td>-0.006068</td>\n",
              "      <td>2.85</td>\n",
              "      <td>90.19</td>\n",
              "      <td>0.19</td>\n",
              "      <td>25.91</td>\n",
              "    </tr>\n",
              "    <tr>\n",
              "      <th>3</th>\n",
              "      <td>2020</td>\n",
              "      <td>5</td>\n",
              "      <td>1</td>\n",
              "      <td>3</td>\n",
              "      <td>100.90</td>\n",
              "      <td>-0.749467</td>\n",
              "      <td>-0.009234</td>\n",
              "      <td>2.88</td>\n",
              "      <td>90.00</td>\n",
              "      <td>0.19</td>\n",
              "      <td>25.87</td>\n",
              "    </tr>\n",
              "    <tr>\n",
              "      <th>4</th>\n",
              "      <td>2020</td>\n",
              "      <td>5</td>\n",
              "      <td>1</td>\n",
              "      <td>4</td>\n",
              "      <td>100.92</td>\n",
              "      <td>-0.867950</td>\n",
              "      <td>-0.012122</td>\n",
              "      <td>2.88</td>\n",
              "      <td>90.00</td>\n",
              "      <td>0.15</td>\n",
              "      <td>25.83</td>\n",
              "    </tr>\n",
              "    <tr>\n",
              "      <th>...</th>\n",
              "      <td>...</td>\n",
              "      <td>...</td>\n",
              "      <td>...</td>\n",
              "      <td>...</td>\n",
              "      <td>...</td>\n",
              "      <td>...</td>\n",
              "      <td>...</td>\n",
              "      <td>...</td>\n",
              "      <td>...</td>\n",
              "      <td>...</td>\n",
              "      <td>...</td>\n",
              "    </tr>\n",
              "    <tr>\n",
              "      <th>2203</th>\n",
              "      <td>2020</td>\n",
              "      <td>7</td>\n",
              "      <td>31</td>\n",
              "      <td>19</td>\n",
              "      <td>101.02</td>\n",
              "      <td>-3.573617</td>\n",
              "      <td>-0.085421</td>\n",
              "      <td>5.43</td>\n",
              "      <td>89.50</td>\n",
              "      <td>0.00</td>\n",
              "      <td>23.66</td>\n",
              "    </tr>\n",
              "    <tr>\n",
              "      <th>2204</th>\n",
              "      <td>2020</td>\n",
              "      <td>7</td>\n",
              "      <td>31</td>\n",
              "      <td>20</td>\n",
              "      <td>101.09</td>\n",
              "      <td>-3.688488</td>\n",
              "      <td>-0.086270</td>\n",
              "      <td>5.52</td>\n",
              "      <td>90.19</td>\n",
              "      <td>0.00</td>\n",
              "      <td>23.57</td>\n",
              "    </tr>\n",
              "    <tr>\n",
              "      <th>2205</th>\n",
              "      <td>2020</td>\n",
              "      <td>7</td>\n",
              "      <td>31</td>\n",
              "      <td>21</td>\n",
              "      <td>101.14</td>\n",
              "      <td>-3.709723</td>\n",
              "      <td>-0.083896</td>\n",
              "      <td>5.54</td>\n",
              "      <td>90.94</td>\n",
              "      <td>0.00</td>\n",
              "      <td>23.50</td>\n",
              "    </tr>\n",
              "    <tr>\n",
              "      <th>2206</th>\n",
              "      <td>2020</td>\n",
              "      <td>7</td>\n",
              "      <td>31</td>\n",
              "      <td>22</td>\n",
              "      <td>101.14</td>\n",
              "      <td>-3.715740</td>\n",
              "      <td>-0.083182</td>\n",
              "      <td>5.56</td>\n",
              "      <td>91.56</td>\n",
              "      <td>0.00</td>\n",
              "      <td>23.46</td>\n",
              "    </tr>\n",
              "    <tr>\n",
              "      <th>2207</th>\n",
              "      <td>2020</td>\n",
              "      <td>7</td>\n",
              "      <td>31</td>\n",
              "      <td>23</td>\n",
              "      <td>101.10</td>\n",
              "      <td>-3.713897</td>\n",
              "      <td>-0.086405</td>\n",
              "      <td>5.59</td>\n",
              "      <td>92.00</td>\n",
              "      <td>0.00</td>\n",
              "      <td>23.42</td>\n",
              "    </tr>\n",
              "  </tbody>\n",
              "</table>\n",
              "<p>2208 rows × 11 columns</p>\n",
              "</div>\n",
              "      <button class=\"colab-df-convert\" onclick=\"convertToInteractive('df-1267b3c7-bacb-4546-9e5d-09daa336860d')\"\n",
              "              title=\"Convert this dataframe to an interactive table.\"\n",
              "              style=\"display:none;\">\n",
              "        \n",
              "  <svg xmlns=\"http://www.w3.org/2000/svg\" height=\"24px\"viewBox=\"0 0 24 24\"\n",
              "       width=\"24px\">\n",
              "    <path d=\"M0 0h24v24H0V0z\" fill=\"none\"/>\n",
              "    <path d=\"M18.56 5.44l.94 2.06.94-2.06 2.06-.94-2.06-.94-.94-2.06-.94 2.06-2.06.94zm-11 1L8.5 8.5l.94-2.06 2.06-.94-2.06-.94L8.5 2.5l-.94 2.06-2.06.94zm10 10l.94 2.06.94-2.06 2.06-.94-2.06-.94-.94-2.06-.94 2.06-2.06.94z\"/><path d=\"M17.41 7.96l-1.37-1.37c-.4-.4-.92-.59-1.43-.59-.52 0-1.04.2-1.43.59L10.3 9.45l-7.72 7.72c-.78.78-.78 2.05 0 2.83L4 21.41c.39.39.9.59 1.41.59.51 0 1.02-.2 1.41-.59l7.78-7.78 2.81-2.81c.8-.78.8-2.07 0-2.86zM5.41 20L4 18.59l7.72-7.72 1.47 1.35L5.41 20z\"/>\n",
              "  </svg>\n",
              "      </button>\n",
              "      \n",
              "  <style>\n",
              "    .colab-df-container {\n",
              "      display:flex;\n",
              "      flex-wrap:wrap;\n",
              "      gap: 12px;\n",
              "    }\n",
              "\n",
              "    .colab-df-convert {\n",
              "      background-color: #E8F0FE;\n",
              "      border: none;\n",
              "      border-radius: 50%;\n",
              "      cursor: pointer;\n",
              "      display: none;\n",
              "      fill: #1967D2;\n",
              "      height: 32px;\n",
              "      padding: 0 0 0 0;\n",
              "      width: 32px;\n",
              "    }\n",
              "\n",
              "    .colab-df-convert:hover {\n",
              "      background-color: #E2EBFA;\n",
              "      box-shadow: 0px 1px 2px rgba(60, 64, 67, 0.3), 0px 1px 3px 1px rgba(60, 64, 67, 0.15);\n",
              "      fill: #174EA6;\n",
              "    }\n",
              "\n",
              "    [theme=dark] .colab-df-convert {\n",
              "      background-color: #3B4455;\n",
              "      fill: #D2E3FC;\n",
              "    }\n",
              "\n",
              "    [theme=dark] .colab-df-convert:hover {\n",
              "      background-color: #434B5C;\n",
              "      box-shadow: 0px 1px 3px 1px rgba(0, 0, 0, 0.15);\n",
              "      filter: drop-shadow(0px 1px 2px rgba(0, 0, 0, 0.3));\n",
              "      fill: #FFFFFF;\n",
              "    }\n",
              "  </style>\n",
              "\n",
              "      <script>\n",
              "        const buttonEl =\n",
              "          document.querySelector('#df-1267b3c7-bacb-4546-9e5d-09daa336860d button.colab-df-convert');\n",
              "        buttonEl.style.display =\n",
              "          google.colab.kernel.accessAllowed ? 'block' : 'none';\n",
              "\n",
              "        async function convertToInteractive(key) {\n",
              "          const element = document.querySelector('#df-1267b3c7-bacb-4546-9e5d-09daa336860d');\n",
              "          const dataTable =\n",
              "            await google.colab.kernel.invokeFunction('convertToInteractive',\n",
              "                                                     [key], {});\n",
              "          if (!dataTable) return;\n",
              "\n",
              "          const docLinkHtml = 'Like what you see? Visit the ' +\n",
              "            '<a target=\"_blank\" href=https://colab.research.google.com/notebooks/data_table.ipynb>data table notebook</a>'\n",
              "            + ' to learn more about interactive tables.';\n",
              "          element.innerHTML = '';\n",
              "          dataTable['output_type'] = 'display_data';\n",
              "          await google.colab.output.renderOutput(dataTable, element);\n",
              "          const docLink = document.createElement('div');\n",
              "          docLink.innerHTML = docLinkHtml;\n",
              "          element.appendChild(docLink);\n",
              "        }\n",
              "      </script>\n",
              "    </div>\n",
              "  </div>\n",
              "  "
            ],
            "text/plain": [
              "      YEAR  MO  DY  HR      PS  ...        Wy  WS50M   RH2M  PRECTOTCORR    T2M\n",
              "0     2020   5   1   0  101.05  ... -0.000889   3.32  90.12         0.08  26.15\n",
              "1     2020   5   1   1  100.97  ... -0.002733   3.05  90.25         0.12  26.02\n",
              "2     2020   5   1   2  100.92  ... -0.006068   2.85  90.19         0.19  25.91\n",
              "3     2020   5   1   3  100.90  ... -0.009234   2.88  90.00         0.19  25.87\n",
              "4     2020   5   1   4  100.92  ... -0.012122   2.88  90.00         0.15  25.83\n",
              "...    ...  ..  ..  ..     ...  ...       ...    ...    ...          ...    ...\n",
              "2203  2020   7  31  19  101.02  ... -0.085421   5.43  89.50         0.00  23.66\n",
              "2204  2020   7  31  20  101.09  ... -0.086270   5.52  90.19         0.00  23.57\n",
              "2205  2020   7  31  21  101.14  ... -0.083896   5.54  90.94         0.00  23.50\n",
              "2206  2020   7  31  22  101.14  ... -0.083182   5.56  91.56         0.00  23.46\n",
              "2207  2020   7  31  23  101.10  ... -0.086405   5.59  92.00         0.00  23.42\n",
              "\n",
              "[2208 rows x 11 columns]"
            ]
          },
          "execution_count": 6,
          "metadata": {},
          "output_type": "execute_result"
        }
      ],
      "source": [
        "df1['WS10M'] = df1['WS10M']*np.cos(df1['WD10M']*np.pi/180)\n",
        "df1['WD10M'] = df1['WS10M']*np.sin(df1['WD10M']*np.pi/180)\n",
        "df3 = df1.rename(columns = {'WS10M': 'Wx', 'WD10M': 'Wy'}, inplace = False)\n",
        "# Print out df2_tidy\n",
        "df3"
      ]
    },
    {
      "cell_type": "markdown",
      "metadata": {
        "id": "-1cNF1tq3_OE"
      },
      "source": [
        "Selection of the features/ We are removing the relative humidity because it is not significant for the temperature and the precipitation that we are trying to eaxplain."
      ]
    },
    {
      "cell_type": "code",
      "execution_count": null,
      "metadata": {
        "colab": {
          "base_uri": "https://localhost:8080/",
          "height": 424
        },
        "id": "_9WKg4BM3iow",
        "outputId": "18701acc-b7ff-4ae4-9c2f-ddf2b7590b2b"
      },
      "outputs": [
        {
          "data": {
            "text/html": [
              "\n",
              "  <div id=\"df-47a3e17a-1066-4e3b-a8dd-790e74bfa0fe\">\n",
              "    <div class=\"colab-df-container\">\n",
              "      <div>\n",
              "<style scoped>\n",
              "    .dataframe tbody tr th:only-of-type {\n",
              "        vertical-align: middle;\n",
              "    }\n",
              "\n",
              "    .dataframe tbody tr th {\n",
              "        vertical-align: top;\n",
              "    }\n",
              "\n",
              "    .dataframe thead th {\n",
              "        text-align: right;\n",
              "    }\n",
              "</style>\n",
              "<table border=\"1\" class=\"dataframe\">\n",
              "  <thead>\n",
              "    <tr style=\"text-align: right;\">\n",
              "      <th></th>\n",
              "      <th>PS</th>\n",
              "      <th>Wx</th>\n",
              "      <th>Wy</th>\n",
              "      <th>WS50M</th>\n",
              "      <th>PRECTOTCORR</th>\n",
              "      <th>T2M</th>\n",
              "    </tr>\n",
              "  </thead>\n",
              "  <tbody>\n",
              "    <tr>\n",
              "      <th>0</th>\n",
              "      <td>101.05</td>\n",
              "      <td>-0.226106</td>\n",
              "      <td>-0.000889</td>\n",
              "      <td>3.32</td>\n",
              "      <td>0.08</td>\n",
              "      <td>26.15</td>\n",
              "    </tr>\n",
              "    <tr>\n",
              "      <th>1</th>\n",
              "      <td>100.97</td>\n",
              "      <td>-0.398735</td>\n",
              "      <td>-0.002733</td>\n",
              "      <td>3.05</td>\n",
              "      <td>0.12</td>\n",
              "      <td>26.02</td>\n",
              "    </tr>\n",
              "    <tr>\n",
              "      <th>2</th>\n",
              "      <td>100.92</td>\n",
              "      <td>-0.601202</td>\n",
              "      <td>-0.006068</td>\n",
              "      <td>2.85</td>\n",
              "      <td>0.19</td>\n",
              "      <td>25.91</td>\n",
              "    </tr>\n",
              "    <tr>\n",
              "      <th>3</th>\n",
              "      <td>100.90</td>\n",
              "      <td>-0.749467</td>\n",
              "      <td>-0.009234</td>\n",
              "      <td>2.88</td>\n",
              "      <td>0.19</td>\n",
              "      <td>25.87</td>\n",
              "    </tr>\n",
              "    <tr>\n",
              "      <th>4</th>\n",
              "      <td>100.92</td>\n",
              "      <td>-0.867950</td>\n",
              "      <td>-0.012122</td>\n",
              "      <td>2.88</td>\n",
              "      <td>0.15</td>\n",
              "      <td>25.83</td>\n",
              "    </tr>\n",
              "    <tr>\n",
              "      <th>...</th>\n",
              "      <td>...</td>\n",
              "      <td>...</td>\n",
              "      <td>...</td>\n",
              "      <td>...</td>\n",
              "      <td>...</td>\n",
              "      <td>...</td>\n",
              "    </tr>\n",
              "    <tr>\n",
              "      <th>2203</th>\n",
              "      <td>101.02</td>\n",
              "      <td>-3.573617</td>\n",
              "      <td>-0.085421</td>\n",
              "      <td>5.43</td>\n",
              "      <td>0.00</td>\n",
              "      <td>23.66</td>\n",
              "    </tr>\n",
              "    <tr>\n",
              "      <th>2204</th>\n",
              "      <td>101.09</td>\n",
              "      <td>-3.688488</td>\n",
              "      <td>-0.086270</td>\n",
              "      <td>5.52</td>\n",
              "      <td>0.00</td>\n",
              "      <td>23.57</td>\n",
              "    </tr>\n",
              "    <tr>\n",
              "      <th>2205</th>\n",
              "      <td>101.14</td>\n",
              "      <td>-3.709723</td>\n",
              "      <td>-0.083896</td>\n",
              "      <td>5.54</td>\n",
              "      <td>0.00</td>\n",
              "      <td>23.50</td>\n",
              "    </tr>\n",
              "    <tr>\n",
              "      <th>2206</th>\n",
              "      <td>101.14</td>\n",
              "      <td>-3.715740</td>\n",
              "      <td>-0.083182</td>\n",
              "      <td>5.56</td>\n",
              "      <td>0.00</td>\n",
              "      <td>23.46</td>\n",
              "    </tr>\n",
              "    <tr>\n",
              "      <th>2207</th>\n",
              "      <td>101.10</td>\n",
              "      <td>-3.713897</td>\n",
              "      <td>-0.086405</td>\n",
              "      <td>5.59</td>\n",
              "      <td>0.00</td>\n",
              "      <td>23.42</td>\n",
              "    </tr>\n",
              "  </tbody>\n",
              "</table>\n",
              "<p>2208 rows × 6 columns</p>\n",
              "</div>\n",
              "      <button class=\"colab-df-convert\" onclick=\"convertToInteractive('df-47a3e17a-1066-4e3b-a8dd-790e74bfa0fe')\"\n",
              "              title=\"Convert this dataframe to an interactive table.\"\n",
              "              style=\"display:none;\">\n",
              "        \n",
              "  <svg xmlns=\"http://www.w3.org/2000/svg\" height=\"24px\"viewBox=\"0 0 24 24\"\n",
              "       width=\"24px\">\n",
              "    <path d=\"M0 0h24v24H0V0z\" fill=\"none\"/>\n",
              "    <path d=\"M18.56 5.44l.94 2.06.94-2.06 2.06-.94-2.06-.94-.94-2.06-.94 2.06-2.06.94zm-11 1L8.5 8.5l.94-2.06 2.06-.94-2.06-.94L8.5 2.5l-.94 2.06-2.06.94zm10 10l.94 2.06.94-2.06 2.06-.94-2.06-.94-.94-2.06-.94 2.06-2.06.94z\"/><path d=\"M17.41 7.96l-1.37-1.37c-.4-.4-.92-.59-1.43-.59-.52 0-1.04.2-1.43.59L10.3 9.45l-7.72 7.72c-.78.78-.78 2.05 0 2.83L4 21.41c.39.39.9.59 1.41.59.51 0 1.02-.2 1.41-.59l7.78-7.78 2.81-2.81c.8-.78.8-2.07 0-2.86zM5.41 20L4 18.59l7.72-7.72 1.47 1.35L5.41 20z\"/>\n",
              "  </svg>\n",
              "      </button>\n",
              "      \n",
              "  <style>\n",
              "    .colab-df-container {\n",
              "      display:flex;\n",
              "      flex-wrap:wrap;\n",
              "      gap: 12px;\n",
              "    }\n",
              "\n",
              "    .colab-df-convert {\n",
              "      background-color: #E8F0FE;\n",
              "      border: none;\n",
              "      border-radius: 50%;\n",
              "      cursor: pointer;\n",
              "      display: none;\n",
              "      fill: #1967D2;\n",
              "      height: 32px;\n",
              "      padding: 0 0 0 0;\n",
              "      width: 32px;\n",
              "    }\n",
              "\n",
              "    .colab-df-convert:hover {\n",
              "      background-color: #E2EBFA;\n",
              "      box-shadow: 0px 1px 2px rgba(60, 64, 67, 0.3), 0px 1px 3px 1px rgba(60, 64, 67, 0.15);\n",
              "      fill: #174EA6;\n",
              "    }\n",
              "\n",
              "    [theme=dark] .colab-df-convert {\n",
              "      background-color: #3B4455;\n",
              "      fill: #D2E3FC;\n",
              "    }\n",
              "\n",
              "    [theme=dark] .colab-df-convert:hover {\n",
              "      background-color: #434B5C;\n",
              "      box-shadow: 0px 1px 3px 1px rgba(0, 0, 0, 0.15);\n",
              "      filter: drop-shadow(0px 1px 2px rgba(0, 0, 0, 0.3));\n",
              "      fill: #FFFFFF;\n",
              "    }\n",
              "  </style>\n",
              "\n",
              "      <script>\n",
              "        const buttonEl =\n",
              "          document.querySelector('#df-47a3e17a-1066-4e3b-a8dd-790e74bfa0fe button.colab-df-convert');\n",
              "        buttonEl.style.display =\n",
              "          google.colab.kernel.accessAllowed ? 'block' : 'none';\n",
              "\n",
              "        async function convertToInteractive(key) {\n",
              "          const element = document.querySelector('#df-47a3e17a-1066-4e3b-a8dd-790e74bfa0fe');\n",
              "          const dataTable =\n",
              "            await google.colab.kernel.invokeFunction('convertToInteractive',\n",
              "                                                     [key], {});\n",
              "          if (!dataTable) return;\n",
              "\n",
              "          const docLinkHtml = 'Like what you see? Visit the ' +\n",
              "            '<a target=\"_blank\" href=https://colab.research.google.com/notebooks/data_table.ipynb>data table notebook</a>'\n",
              "            + ' to learn more about interactive tables.';\n",
              "          element.innerHTML = '';\n",
              "          dataTable['output_type'] = 'display_data';\n",
              "          await google.colab.output.renderOutput(dataTable, element);\n",
              "          const docLink = document.createElement('div');\n",
              "          docLink.innerHTML = docLinkHtml;\n",
              "          element.appendChild(docLink);\n",
              "        }\n",
              "      </script>\n",
              "    </div>\n",
              "  </div>\n",
              "  "
            ],
            "text/plain": [
              "          PS        Wx        Wy  WS50M  PRECTOTCORR    T2M\n",
              "0     101.05 -0.226106 -0.000889   3.32         0.08  26.15\n",
              "1     100.97 -0.398735 -0.002733   3.05         0.12  26.02\n",
              "2     100.92 -0.601202 -0.006068   2.85         0.19  25.91\n",
              "3     100.90 -0.749467 -0.009234   2.88         0.19  25.87\n",
              "4     100.92 -0.867950 -0.012122   2.88         0.15  25.83\n",
              "...      ...       ...       ...    ...          ...    ...\n",
              "2203  101.02 -3.573617 -0.085421   5.43         0.00  23.66\n",
              "2204  101.09 -3.688488 -0.086270   5.52         0.00  23.57\n",
              "2205  101.14 -3.709723 -0.083896   5.54         0.00  23.50\n",
              "2206  101.14 -3.715740 -0.083182   5.56         0.00  23.46\n",
              "2207  101.10 -3.713897 -0.086405   5.59         0.00  23.42\n",
              "\n",
              "[2208 rows x 6 columns]"
            ]
          },
          "execution_count": 7,
          "metadata": {},
          "output_type": "execute_result"
        }
      ],
      "source": [
        "df2 =  df3[ ['PS', 'Wx', 'Wy', 'WS50M', 'PRECTOTCORR', 'T2M']  ]\n",
        "df2"
      ]
    },
    {
      "cell_type": "code",
      "execution_count": null,
      "metadata": {
        "id": "riPkbCx98Qkw"
      },
      "outputs": [],
      "source": [
        "def ReScale(data, a):\n",
        "    data_avg = data.mean()\n",
        "    scaled_data = a*(data - data_avg)\n",
        "    return scaled_data  "
      ]
    },
    {
      "cell_type": "code",
      "execution_count": null,
      "metadata": {
        "colab": {
          "base_uri": "https://localhost:8080/",
          "height": 206
        },
        "id": "8fs1aR7L90GN",
        "outputId": "d0612d24-b12d-4317-e407-9eb36a1e9de3"
      },
      "outputs": [
        {
          "data": {
            "text/html": [
              "\n",
              "  <div id=\"df-d8a6da5c-7237-4434-baad-115d06272064\">\n",
              "    <div class=\"colab-df-container\">\n",
              "      <div>\n",
              "<style scoped>\n",
              "    .dataframe tbody tr th:only-of-type {\n",
              "        vertical-align: middle;\n",
              "    }\n",
              "\n",
              "    .dataframe tbody tr th {\n",
              "        vertical-align: top;\n",
              "    }\n",
              "\n",
              "    .dataframe thead th {\n",
              "        text-align: right;\n",
              "    }\n",
              "</style>\n",
              "<table border=\"1\" class=\"dataframe\">\n",
              "  <thead>\n",
              "    <tr style=\"text-align: right;\">\n",
              "      <th></th>\n",
              "      <th>PS</th>\n",
              "      <th>Wx</th>\n",
              "      <th>Wy</th>\n",
              "      <th>WS50M</th>\n",
              "      <th>PRECTOTCORR</th>\n",
              "      <th>T2M</th>\n",
              "    </tr>\n",
              "  </thead>\n",
              "  <tbody>\n",
              "    <tr>\n",
              "      <th>0</th>\n",
              "      <td>0.061791</td>\n",
              "      <td>1.148880</td>\n",
              "      <td>0.034060</td>\n",
              "      <td>-0.564717</td>\n",
              "      <td>-0.089312</td>\n",
              "      <td>0.077097</td>\n",
              "    </tr>\n",
              "    <tr>\n",
              "      <th>1</th>\n",
              "      <td>0.021791</td>\n",
              "      <td>1.062566</td>\n",
              "      <td>0.033138</td>\n",
              "      <td>-0.699717</td>\n",
              "      <td>-0.069312</td>\n",
              "      <td>0.012097</td>\n",
              "    </tr>\n",
              "    <tr>\n",
              "      <th>2</th>\n",
              "      <td>-0.003209</td>\n",
              "      <td>0.961332</td>\n",
              "      <td>0.031470</td>\n",
              "      <td>-0.799717</td>\n",
              "      <td>-0.034312</td>\n",
              "      <td>-0.042903</td>\n",
              "    </tr>\n",
              "    <tr>\n",
              "      <th>3</th>\n",
              "      <td>-0.013209</td>\n",
              "      <td>0.887200</td>\n",
              "      <td>0.029888</td>\n",
              "      <td>-0.784717</td>\n",
              "      <td>-0.034312</td>\n",
              "      <td>-0.062903</td>\n",
              "    </tr>\n",
              "    <tr>\n",
              "      <th>4</th>\n",
              "      <td>-0.003209</td>\n",
              "      <td>0.827958</td>\n",
              "      <td>0.028444</td>\n",
              "      <td>-0.784717</td>\n",
              "      <td>-0.054312</td>\n",
              "      <td>-0.082903</td>\n",
              "    </tr>\n",
              "  </tbody>\n",
              "</table>\n",
              "</div>\n",
              "      <button class=\"colab-df-convert\" onclick=\"convertToInteractive('df-d8a6da5c-7237-4434-baad-115d06272064')\"\n",
              "              title=\"Convert this dataframe to an interactive table.\"\n",
              "              style=\"display:none;\">\n",
              "        \n",
              "  <svg xmlns=\"http://www.w3.org/2000/svg\" height=\"24px\"viewBox=\"0 0 24 24\"\n",
              "       width=\"24px\">\n",
              "    <path d=\"M0 0h24v24H0V0z\" fill=\"none\"/>\n",
              "    <path d=\"M18.56 5.44l.94 2.06.94-2.06 2.06-.94-2.06-.94-.94-2.06-.94 2.06-2.06.94zm-11 1L8.5 8.5l.94-2.06 2.06-.94-2.06-.94L8.5 2.5l-.94 2.06-2.06.94zm10 10l.94 2.06.94-2.06 2.06-.94-2.06-.94-.94-2.06-.94 2.06-2.06.94z\"/><path d=\"M17.41 7.96l-1.37-1.37c-.4-.4-.92-.59-1.43-.59-.52 0-1.04.2-1.43.59L10.3 9.45l-7.72 7.72c-.78.78-.78 2.05 0 2.83L4 21.41c.39.39.9.59 1.41.59.51 0 1.02-.2 1.41-.59l7.78-7.78 2.81-2.81c.8-.78.8-2.07 0-2.86zM5.41 20L4 18.59l7.72-7.72 1.47 1.35L5.41 20z\"/>\n",
              "  </svg>\n",
              "      </button>\n",
              "      \n",
              "  <style>\n",
              "    .colab-df-container {\n",
              "      display:flex;\n",
              "      flex-wrap:wrap;\n",
              "      gap: 12px;\n",
              "    }\n",
              "\n",
              "    .colab-df-convert {\n",
              "      background-color: #E8F0FE;\n",
              "      border: none;\n",
              "      border-radius: 50%;\n",
              "      cursor: pointer;\n",
              "      display: none;\n",
              "      fill: #1967D2;\n",
              "      height: 32px;\n",
              "      padding: 0 0 0 0;\n",
              "      width: 32px;\n",
              "    }\n",
              "\n",
              "    .colab-df-convert:hover {\n",
              "      background-color: #E2EBFA;\n",
              "      box-shadow: 0px 1px 2px rgba(60, 64, 67, 0.3), 0px 1px 3px 1px rgba(60, 64, 67, 0.15);\n",
              "      fill: #174EA6;\n",
              "    }\n",
              "\n",
              "    [theme=dark] .colab-df-convert {\n",
              "      background-color: #3B4455;\n",
              "      fill: #D2E3FC;\n",
              "    }\n",
              "\n",
              "    [theme=dark] .colab-df-convert:hover {\n",
              "      background-color: #434B5C;\n",
              "      box-shadow: 0px 1px 3px 1px rgba(0, 0, 0, 0.15);\n",
              "      filter: drop-shadow(0px 1px 2px rgba(0, 0, 0, 0.3));\n",
              "      fill: #FFFFFF;\n",
              "    }\n",
              "  </style>\n",
              "\n",
              "      <script>\n",
              "        const buttonEl =\n",
              "          document.querySelector('#df-d8a6da5c-7237-4434-baad-115d06272064 button.colab-df-convert');\n",
              "        buttonEl.style.display =\n",
              "          google.colab.kernel.accessAllowed ? 'block' : 'none';\n",
              "\n",
              "        async function convertToInteractive(key) {\n",
              "          const element = document.querySelector('#df-d8a6da5c-7237-4434-baad-115d06272064');\n",
              "          const dataTable =\n",
              "            await google.colab.kernel.invokeFunction('convertToInteractive',\n",
              "                                                     [key], {});\n",
              "          if (!dataTable) return;\n",
              "\n",
              "          const docLinkHtml = 'Like what you see? Visit the ' +\n",
              "            '<a target=\"_blank\" href=https://colab.research.google.com/notebooks/data_table.ipynb>data table notebook</a>'\n",
              "            + ' to learn more about interactive tables.';\n",
              "          element.innerHTML = '';\n",
              "          dataTable['output_type'] = 'display_data';\n",
              "          await google.colab.output.renderOutput(dataTable, element);\n",
              "          const docLink = document.createElement('div');\n",
              "          docLink.innerHTML = docLinkHtml;\n",
              "          element.appendChild(docLink);\n",
              "        }\n",
              "      </script>\n",
              "    </div>\n",
              "  </div>\n",
              "  "
            ],
            "text/plain": [
              "         PS        Wx        Wy     WS50M  PRECTOTCORR       T2M\n",
              "0  0.061791  1.148880  0.034060 -0.564717    -0.089312  0.077097\n",
              "1  0.021791  1.062566  0.033138 -0.699717    -0.069312  0.012097\n",
              "2 -0.003209  0.961332  0.031470 -0.799717    -0.034312 -0.042903\n",
              "3 -0.013209  0.887200  0.029888 -0.784717    -0.034312 -0.062903\n",
              "4 -0.003209  0.827958  0.028444 -0.784717    -0.054312 -0.082903"
            ]
          },
          "execution_count": 9,
          "metadata": {},
          "output_type": "execute_result"
        }
      ],
      "source": [
        "df2 = ReScale(df2 , 0.5)\n",
        "#df2.drop(['WD10M' , 'PS' ] , axis = 1 , inplace  =  True)\n",
        "df2.head()"
      ]
    },
    {
      "cell_type": "code",
      "execution_count": null,
      "metadata": {
        "colab": {
          "background_save": true
        },
        "id": "TF1m4R-OW27v"
      },
      "outputs": [],
      "source": [
        "shifts =  [df2.shift(11) , df2.shift(10) ,df2.shift(9) ,\n",
        "           df2.shift(8),df2.shift(7) , df2.shift(6),\n",
        "           df2.shift(5) , df2.shift(4), df2.shift(3), ]"
      ]
    },
    {
      "cell_type": "code",
      "execution_count": null,
      "metadata": {
        "id": "SypWWtOqW3g4"
      },
      "outputs": [],
      "source": []
    },
    {
      "cell_type": "code",
      "execution_count": null,
      "metadata": {
        "id": "Aa7kv14XHsh6"
      },
      "outputs": [],
      "source": [
        "def sliding_windows(data, window_size):#, forecast_over, shift):\n",
        "    num_batches = len(data) - window_size + 1\n",
        "    x = []\n",
        "    for i in range(num_batches):\n",
        "        _x = data[ i:i+window_size]\n",
        "        x.append(_x)\n",
        "    \n",
        "    #x.append(data[-window_size:,:])\n",
        "    return np.array(x)"
      ]
    },
    {
      "cell_type": "code",
      "execution_count": null,
      "metadata": {
        "id": "X2USko6vW2CZ"
      },
      "outputs": [],
      "source": []
    },
    {
      "cell_type": "code",
      "execution_count": null,
      "metadata": {
        "id": "_DK8QNF3IPqn"
      },
      "outputs": [],
      "source": [
        "time_steps_provider = 12"
      ]
    },
    {
      "cell_type": "code",
      "execution_count": null,
      "metadata": {
        "colab": {
          "base_uri": "https://localhost:8080/"
        },
        "id": "TL1qkpxHIMrC",
        "outputId": "e686bdbd-6231-4dd1-c655-619a8332c4d5"
      },
      "outputs": [
        {
          "data": {
            "text/plain": [
              "array([[[ 0.06179121,  1.14943317, -0.56809627, -0.56471694,\n",
              "         -0.08931159,  0.07709692],\n",
              "        [ 0.02179121,  1.06311474, -0.48430353, -0.69971694,\n",
              "         -0.06931159,  0.01209692],\n",
              "        [-0.00320879,  0.96187063, -0.39151042, -0.79971694,\n",
              "         -0.03431159, -0.04290308],\n",
              "        ...,\n",
              "        [ 0.09679121,  0.22135351, -0.15650111, -0.86471694,\n",
              "         -0.10431159,  1.35209692],\n",
              "        [ 0.08179121,  0.03290594, -0.23343651, -0.74971694,\n",
              "         -0.10931159,  1.64709692],\n",
              "        [ 0.05679121, -0.20791963, -0.39004647, -0.55971694,\n",
              "         -0.10431159,  1.84709692]],\n",
              "\n",
              "       [[ 0.02179121,  1.06311474, -0.48430353, -0.69971694,\n",
              "         -0.06931159,  0.01209692],\n",
              "        [-0.00320879,  0.96187063, -0.39151042, -0.79971694,\n",
              "         -0.03431159, -0.04290308],\n",
              "        [-0.01320879,  0.88772541, -0.32772394, -0.78471694,\n",
              "         -0.03431159, -0.06290308],\n",
              "        ...,\n",
              "        [ 0.08179121,  0.03290594, -0.23343651, -0.74971694,\n",
              "         -0.10931159,  1.64709692],\n",
              "        [ 0.05679121, -0.20791963, -0.39004647, -0.55971694,\n",
              "         -0.10431159,  1.84709692],\n",
              "        [ 0.02179121, -0.44995446, -0.58718104, -0.31471694,\n",
              "         -0.08931159,  1.92209692]],\n",
              "\n",
              "       [[-0.00320879,  0.96187063, -0.39151042, -0.79971694,\n",
              "         -0.03431159, -0.04290308],\n",
              "        [-0.01320879,  0.88772541, -0.32772394, -0.78471694,\n",
              "         -0.03431159, -0.06290308],\n",
              "        [-0.00320879,  0.82846968, -0.28057846, -0.78471694,\n",
              "         -0.05431159, -0.08290308],\n",
              "        ...,\n",
              "        [ 0.05679121, -0.20791963, -0.39004647, -0.55971694,\n",
              "         -0.10431159,  1.84709692],\n",
              "        [ 0.02179121, -0.44995446, -0.58718104, -0.31471694,\n",
              "         -0.08931159,  1.92209692],\n",
              "        [-0.01820879, -0.62388623, -0.79748655, -0.10971694,\n",
              "         -0.06931159,  1.89209692]],\n",
              "\n",
              "       ...,\n",
              "\n",
              "       [[ 0.10679121, -0.27184999,  0.37256746,  0.55528306,\n",
              "         -0.12931159, -0.67290308],\n",
              "        [ 0.08679121, -0.42601264,  0.45395346,  0.76528306,\n",
              "         -0.12431159, -0.54790308],\n",
              "        [ 0.05679121, -0.51613831,  0.47844946,  0.85028306,\n",
              "         -0.12431159, -0.45290308],\n",
              "        ...,\n",
              "        [ 0.01179121, -0.44746969,  0.02081192,  0.44028306,\n",
              "         -0.12931159, -1.08790308],\n",
              "        [ 0.04679121, -0.5248318 ,  0.00415869,  0.49028306,\n",
              "         -0.12931159, -1.16790308],\n",
              "        [ 0.08179121, -0.5822615 , -0.01057595,  0.53528306,\n",
              "         -0.12931159, -1.21290308]],\n",
              "\n",
              "       [[ 0.08679121, -0.42601264,  0.45395346,  0.76528306,\n",
              "         -0.12431159, -0.54790308],\n",
              "        [ 0.05679121, -0.51613831,  0.47844946,  0.85028306,\n",
              "         -0.12431159, -0.45290308],\n",
              "        [ 0.02179121, -0.54621383,  0.45953075,  0.83528306,\n",
              "         -0.12431159, -0.37790308],\n",
              "        ...,\n",
              "        [ 0.04679121, -0.5248318 ,  0.00415869,  0.49028306,\n",
              "         -0.12931159, -1.16790308],\n",
              "        [ 0.08179121, -0.5822615 , -0.01057595,  0.53528306,\n",
              "         -0.12931159, -1.21290308],\n",
              "        [ 0.10679121, -0.59284892, -0.032751  ,  0.54528306,\n",
              "         -0.12931159, -1.24790308]],\n",
              "\n",
              "       [[ 0.05679121, -0.51613831,  0.47844946,  0.85028306,\n",
              "         -0.12431159, -0.45290308],\n",
              "        [ 0.02179121, -0.54621383,  0.45953075,  0.83528306,\n",
              "         -0.12431159, -0.37790308],\n",
              "        [-0.00820879, -0.56447663,  0.43327189,  0.80528306,\n",
              "         -0.12431159, -0.31290308],\n",
              "        ...,\n",
              "        [ 0.08179121, -0.5822615 , -0.01057595,  0.53528306,\n",
              "         -0.12931159, -1.21290308],\n",
              "        [ 0.10679121, -0.59284892, -0.032751  ,  0.54528306,\n",
              "         -0.12931159, -1.24790308],\n",
              "        [ 0.10679121, -0.59584835, -0.03930766,  0.55528306,\n",
              "         -0.12931159, -1.26790308]]])"
            ]
          },
          "execution_count": 46,
          "metadata": {},
          "output_type": "execute_result"
        }
      ],
      "source": [
        "framework = sliding_windows(df2, time_steps_provider)[:-1]  #4 here is the loopback\n",
        "framework"
      ]
    },
    {
      "cell_type": "code",
      "execution_count": null,
      "metadata": {
        "id": "TN8cpRxnHRbH"
      },
      "outputs": [],
      "source": [
        "outputs1 = df2['T2M'][time_steps_provider:].values\n",
        "outputs2 = df2['PRECTOTCORR'][time_steps_provider:].values"
      ]
    },
    {
      "cell_type": "markdown",
      "metadata": {
        "id": "P2bbfYIdJU-o"
      },
      "source": [
        "Our training data"
      ]
    },
    {
      "cell_type": "code",
      "execution_count": null,
      "metadata": {
        "colab": {
          "base_uri": "https://localhost:8080/"
        },
        "id": "Zrtd4OAPHKom",
        "outputId": "0639fb96-a5d5-4288-9869-4ce7b101ca8d"
      },
      "outputs": [
        {
          "data": {
            "text/plain": [
              "2152"
            ]
          },
          "execution_count": 14,
          "metadata": {},
          "output_type": "execute_result"
        }
      ],
      "source": [
        "train_points = int(0.98*len(framework)) #0.90 is the proportion of the training set \n",
        "train_points"
      ]
    },
    {
      "cell_type": "code",
      "execution_count": null,
      "metadata": {
        "colab": {
          "base_uri": "https://localhost:8080/"
        },
        "id": "Rw4WABBRJTFR",
        "outputId": "ecea199f-b8fc-486d-d10f-dcffcae92215"
      },
      "outputs": [
        {
          "data": {
            "text/plain": [
              "44"
            ]
          },
          "execution_count": 16,
          "metadata": {},
          "output_type": "execute_result"
        }
      ],
      "source": [
        "test_points = len(framework) - train_pointsClass\n",
        "test_points"
      ]
    },
    {
      "cell_type": "code",
      "execution_count": null,
      "metadata": {
        "id": "7Zbw_WyEJx3o"
      },
      "outputs": [],
      "source": [
        "#n_points = len(df_new)\n",
        "X2_train, X2_test = framework[:train_points] , framework[train_points:]\n",
        "y2_train, y2_test = outputs2[:train_points],  outputs2[train_points:]"
      ]
    },
    {
      "cell_type": "code",
      "execution_count": null,
      "metadata": {
        "id": "CfFpSTwoJ5e9"
      },
      "outputs": [],
      "source": [
        "from tensorflow.python.framework import ops\n",
        "ops.reset_default_graph()\n",
        "keras.backend.clear_session()\n",
        "\n",
        "X2_train = X2_train.reshape(X2_train.shape[0],4, 11)\n",
        "X2_test = X2_test.reshape(X2_test.shape[0],4, 11)\n",
        "print(X2_train.shape)\n",
        "print(X2_test.shape)"
      ]
    },
    {
      "cell_type": "code",
      "execution_count": null,
      "metadata": {
        "colab": {
          "base_uri": "https://localhost:8080/"
        },
        "id": "PkMnYTacJ6w5",
        "outputId": "d06cd915-a501-44b0-e818-39776cb53968"
      },
      "outputs": [
        {
          "name": "stdout",
          "output_type": "stream",
          "text": [
            "Model: \"sequential_2\"\n",
            "_________________________________________________________________\n",
            " Layer (type)                Output Shape              Param #   \n",
            "=================================================================\n",
            " simple_rnn_2 (SimpleRNN)    (None, 100)               10700     \n",
            "                                                                 \n",
            " dense_2 (Dense)             (None, 1)                 101       \n",
            "                                                                 \n",
            "=================================================================\n",
            "Total params: 10,801\n",
            "Trainable params: 10,801\n",
            "Non-trainable params: 0\n",
            "_________________________________________________________________\n"
          ]
        }
      ],
      "source": [
        "model = Sequential()\n",
        "model.add(SimpleRNN(units=100, input_shape=(X2_train.shape[1], X2_train.shape[2]))) #input_shape takes time steps and features\n",
        "#model.add(SimpleRNN(units=10))#, input_shape=(X2_train.shape[1], X2_train.shape[2])))\n",
        "#model.add(SimpleRNN(units=10))#, input_shape=(X2_train.shape[1], X2_train.shape[2])))\n",
        "model.add(Dense(1))\n",
        "\n",
        "model.compile(loss='mean_squared_error', optimizer='sgd')\n",
        "\n",
        "model.summary()"
      ]
    },
    {
      "cell_type": "code",
      "execution_count": null,
      "metadata": {
        "colab": {
          "base_uri": "https://localhost:8080/"
        },
        "id": "CkKr8YytpOgX",
        "outputId": "691097f5-5d26-4aa0-e308-26bee7cb804a"
      },
      "outputs": [
        {
          "name": "stdout",
          "output_type": "stream",
          "text": [
            "Epoch 1/10\n",
            "68/68 [==============================] - 2s 14ms/step - loss: 0.0614\n",
            "Epoch 2/10\n",
            "68/68 [==============================] - 1s 14ms/step - loss: 0.0253\n",
            "Epoch 3/10\n",
            "68/68 [==============================] - 1s 14ms/step - loss: 0.0185\n",
            "Epoch 4/10\n",
            "68/68 [==============================] - 1s 14ms/step - loss: 0.0150\n",
            "Epoch 5/10\n",
            "68/68 [==============================] - 1s 15ms/step - loss: 0.0129\n",
            "Epoch 6/10\n",
            "68/68 [==============================] - 1s 15ms/step - loss: 0.0114\n",
            "Epoch 7/10\n",
            "68/68 [==============================] - 1s 14ms/step - loss: 0.0104\n",
            "Epoch 8/10\n",
            "68/68 [==============================] - 1s 14ms/step - loss: 0.0098\n",
            "Epoch 9/10\n",
            "68/68 [==============================] - 1s 15ms/step - loss: 0.0091\n",
            "Epoch 10/10\n",
            "68/68 [==============================] - 1s 14ms/step - loss: 0.0087\n"
          ]
        },
        {
          "data": {
            "text/plain": [
              "<keras.callbacks.History at 0x7f6fe17d41d0>"
            ]
          },
          "execution_count": 66,
          "metadata": {},
          "output_type": "execute_result"
        }
      ],
      "source": [
        "nb_epoch = 10\n",
        "\n",
        "model.fit(X2_train, y2_train, epochs=nb_epoch)"
      ]
    },
    {
      "cell_type": "code",
      "execution_count": null,
      "metadata": {
        "id": "EMCWRlrUEabj"
      },
      "outputs": [],
      "source": [
        "y2_train_pred = model.predict(X2_train)\n",
        "y2_test_pred = model.predict(X2_test)"
      ]
    },
    {
      "cell_type": "code",
      "execution_count": null,
      "metadata": {
        "colab": {
          "base_uri": "https://localhost:8080/"
        },
        "id": "TBgyfqQiEaZM",
        "outputId": "d18f4d4d-53d2-43ad-9807-893885514046"
      },
      "outputs": [
        {
          "data": {
            "text/plain": [
              "0.0031150169790787707"
            ]
          },
          "execution_count": 39,
          "metadata": {},
          "output_type": "execute_result"
        }
      ],
      "source": [
        "mean_squared_error(y2_train_pred , y2_train)"
      ]
    },
    {
      "cell_type": "code",
      "execution_count": null,
      "metadata": {
        "colab": {
          "base_uri": "https://localhost:8080/"
        },
        "id": "jBWPJQbTEaWe",
        "outputId": "168f42de-750b-4908-85ae-697bc3d322aa"
      },
      "outputs": [
        {
          "data": {
            "text/plain": [
              "0.0004579720401257979"
            ]
          },
          "execution_count": 40,
          "metadata": {},
          "output_type": "execute_result"
        }
      ],
      "source": [
        "mean_squared_error(y2_test_pred , y2_test)"
      ]
    },
    {
      "cell_type": "code",
      "execution_count": null,
      "metadata": {
        "colab": {
          "base_uri": "https://localhost:8080/",
          "height": 530
        },
        "id": "HNpUGQbzEpln",
        "outputId": "45b8bb6a-faa9-4865-a0e2-2b837cd88d85"
      },
      "outputs": [
        {
          "data": {
            "text/plain": [
              "Text(0.5, 1.0, 'Comparison of predicted training precipitation with actual precipicipitation')"
            ]
          },
          "execution_count": 68,
          "metadata": {},
          "output_type": "execute_result"
        },
        {
          "data": {
            "image/png": "[encoded data removed]",
            "text/plain": [
              "<Figure size 1440x576 with 1 Axes>"
            ]
          },
          "metadata": {},
          "output_type": "display_data"
        }
      ],
      "source": [
        "plt.figure(figsize=(20,8))\n",
        "plt.plot(y2_train_pred[1:] , label ='y_train_pred')\n",
        "plt.plot(y2_train , label ='y_train')\n",
        "plt.legend(loc='upper right')\n",
        "plt.ylabel('Normalized Precipation')\n",
        "plt.xlabel('Hours')\n",
        "plt.title('Comparison of predicted training precipitation with actual precipicipitation')"
      ]
    },
    {
      "cell_type": "code",
      "execution_count": null,
      "metadata": {
        "colab": {
          "base_uri": "https://localhost:8080/",
          "height": 530
        },
        "id": "-xfhUFpR8vBT",
        "outputId": "ec2ea9a8-ce5b-4d80-bc3e-fe9ce5412639"
      },
      "outputs": [
        {
          "data": {
            "text/plain": [
              "Text(0.5, 1.0, 'Comparison of predicted testing Temperature with actual Temperature')"
            ]
          },
          "execution_count": 70,
          "metadata": {},
          "output_type": "execute_result"
        },
        {
          "data": {
            "image/png": "[encoded data removed]",
            "text/plain": [
              "<Figure size 1440x576 with 1 Axes>"
            ]
          },
          "metadata": {},
          "output_type": "display_data"
        }
      ],
      "source": [
        "plt.figure(figsize=(20,8))\n",
        "plt.plot(y2_test_pred[1:] , label ='y_train_pred')\n",
        "plt.plot(y2_test , label ='y_train')\n",
        "plt.legend(loc='upper right')\n",
        "plt.ylabel('Normalized Precipitation')\n",
        "plt.xlabel('Hours')\n",
        "plt.title('Comparison of predicted testing Precipitation with actual Precipitation')"
      ]
    },
    {
      "cell_type": "code",
      "execution_count": null,
      "metadata": {
        "colab": {
          "base_uri": "https://localhost:8080/",
          "height": 530
        },
        "id": "0rEXYficJ3Vw",
        "outputId": "88a7a554-9335-4001-a510-7e74d94836b7"
      },
      "outputs": [
        {
          "data": {
            "text/plain": [
              "Text(0.5, 1.0, 'Comparison of predicted testing precipitation with actual precipitation')"
            ]
          },
          "execution_count": 71,
          "metadata": {},
          "output_type": "execute_result"
        },
        {
          "data": {
            "image/png": "[encoded data removed]",
            "text/plain": [
              "<Figure size 1440x576 with 1 Axes>"
            ]
          },
          "metadata": {},
          "output_type": "display_data"
        }
      ],
      "source": [
        "plt.figure(figsize=(20,8))\n",
        "plt.plot(y2_test_pred[1:] , label ='y_train_pred')\n",
        "plt.plot(y2_test , label ='y_train')\n",
        "plt.legend(loc='upper right')\n",
        "plt.ylabel('Normalized Precipation')\n",
        "plt.xlabel('Hours')\n",
        "plt.title('Comparison of predicted testing precipitation with actual precipitation')"
      ]
    },
    {
      "cell_type": "code",
      "execution_count": null,
      "metadata": {
        "id": "eFZn_xujJ3ai"
      },
      "outputs": [],
      "source": []
    },
    {
      "cell_type": "code",
      "execution_count": null,
      "metadata": {
        "id": "AmHPG_-HJ3dW"
      },
      "outputs": [],
      "source": []
    },
    {
      "cell_type": "code",
      "execution_count": null,
      "metadata": {
        "id": "0zjQ-oP2Epgb"
      },
      "outputs": [],
      "source": []
    },
    {
      "cell_type": "code",
      "execution_count": null,
      "metadata": {
        "id": "jt2vgFDXBu3t"
      },
      "outputs": [],
      "source": [
        "from keras.layers import LSTM"
      ]
    },
    {
      "cell_type": "code",
      "execution_count": null,
      "metadata": {
        "colab": {
          "base_uri": "https://localhost:8080/",
          "height": 381
        },
        "id": "ga73MZ-kBfdc",
        "outputId": "a2670321-2989-419a-998f-ff2b36823059"
      },
      "outputs": [
        {
          "ename": "ValueError",
          "evalue": "ignored",
          "output_type": "error",
          "traceback": [
            "\u001b[0;31m---------------------------------------------------------------------------\u001b[0m",
            "\u001b[0;31mValueError\u001b[0m                                Traceback (most recent call last)",
            "\u001b[0;32m<ipython-input-43-2a98d40f3b5c>\u001b[0m in \u001b[0;36m<module>\u001b[0;34m()\u001b[0m\n\u001b[1;32m      1\u001b[0m \u001b[0mmodel1\u001b[0m \u001b[0;34m=\u001b[0m \u001b[0mSequential\u001b[0m\u001b[0;34m(\u001b[0m\u001b[0;34m)\u001b[0m\u001b[0;34m\u001b[0m\u001b[0;34m\u001b[0m\u001b[0m\n\u001b[1;32m      2\u001b[0m \u001b[0mmodel1\u001b[0m\u001b[0;34m.\u001b[0m\u001b[0madd\u001b[0m\u001b[0;34m(\u001b[0m\u001b[0mLSTM\u001b[0m\u001b[0;34m(\u001b[0m\u001b[0munits\u001b[0m\u001b[0;34m=\u001b[0m\u001b[0;36m20\u001b[0m\u001b[0;34m,\u001b[0m \u001b[0minput_shape\u001b[0m\u001b[0;34m=\u001b[0m\u001b[0;34m(\u001b[0m\u001b[0mX2_train\u001b[0m\u001b[0;34m.\u001b[0m\u001b[0mshape\u001b[0m\u001b[0;34m[\u001b[0m\u001b[0;36m1\u001b[0m\u001b[0;34m]\u001b[0m\u001b[0;34m,\u001b[0m \u001b[0mX2_train\u001b[0m\u001b[0;34m.\u001b[0m\u001b[0mshape\u001b[0m\u001b[0;34m[\u001b[0m\u001b[0;36m2\u001b[0m\u001b[0;34m]\u001b[0m\u001b[0;34m)\u001b[0m\u001b[0;34m)\u001b[0m\u001b[0;34m)\u001b[0m \u001b[0;31m#input_shape takes time steps and features\u001b[0m\u001b[0;34m\u001b[0m\u001b[0;34m\u001b[0m\u001b[0m\n\u001b[0;32m----> 3\u001b[0;31m \u001b[0mmodel1\u001b[0m\u001b[0;34m.\u001b[0m\u001b[0madd\u001b[0m\u001b[0;34m(\u001b[0m\u001b[0mLSTM\u001b[0m\u001b[0;34m(\u001b[0m\u001b[0munits\u001b[0m\u001b[0;34m=\u001b[0m\u001b[0;36m10\u001b[0m\u001b[0;34m)\u001b[0m\u001b[0;34m)\u001b[0m\u001b[0;31m#, input_shape=(X2_train.shape[1], X2_train.shape[2])))\u001b[0m\u001b[0;34m\u001b[0m\u001b[0;34m\u001b[0m\u001b[0m\n\u001b[0m\u001b[1;32m      4\u001b[0m \u001b[0;31m#model.add(SimpleRNN(units=10))#, input_shape=(X2_train.shape[1], X2_train.shape[2])))\u001b[0m\u001b[0;34m\u001b[0m\u001b[0;34m\u001b[0m\u001b[0;34m\u001b[0m\u001b[0m\n\u001b[1;32m      5\u001b[0m \u001b[0mmodel1\u001b[0m\u001b[0;34m.\u001b[0m\u001b[0madd\u001b[0m\u001b[0;34m(\u001b[0m\u001b[0mDense\u001b[0m\u001b[0;34m(\u001b[0m\u001b[0;36m1\u001b[0m\u001b[0;34m)\u001b[0m\u001b[0;34m)\u001b[0m\u001b[0;34m\u001b[0m\u001b[0;34m\u001b[0m\u001b[0m\n",
            "\u001b[0;32m/usr/local/lib/python3.7/dist-packages/tensorflow/python/training/tracking/base.py\u001b[0m in \u001b[0;36m_method_wrapper\u001b[0;34m(self, *args, **kwargs)\u001b[0m\n\u001b[1;32m    627\u001b[0m     \u001b[0mself\u001b[0m\u001b[0;34m.\u001b[0m\u001b[0m_self_setattr_tracking\u001b[0m \u001b[0;34m=\u001b[0m \u001b[0;32mFalse\u001b[0m  \u001b[0;31m# pylint: disable=protected-access\u001b[0m\u001b[0;34m\u001b[0m\u001b[0;34m\u001b[0m\u001b[0m\n\u001b[1;32m    628\u001b[0m     \u001b[0;32mtry\u001b[0m\u001b[0;34m:\u001b[0m\u001b[0;34m\u001b[0m\u001b[0;34m\u001b[0m\u001b[0m\n\u001b[0;32m--> 629\u001b[0;31m       \u001b[0mresult\u001b[0m \u001b[0;34m=\u001b[0m \u001b[0mmethod\u001b[0m\u001b[0;34m(\u001b[0m\u001b[0mself\u001b[0m\u001b[0;34m,\u001b[0m \u001b[0;34m*\u001b[0m\u001b[0margs\u001b[0m\u001b[0;34m,\u001b[0m \u001b[0;34m**\u001b[0m\u001b[0mkwargs\u001b[0m\u001b[0;34m)\u001b[0m\u001b[0;34m\u001b[0m\u001b[0;34m\u001b[0m\u001b[0m\n\u001b[0m\u001b[1;32m    630\u001b[0m     \u001b[0;32mfinally\u001b[0m\u001b[0;34m:\u001b[0m\u001b[0;34m\u001b[0m\u001b[0;34m\u001b[0m\u001b[0m\n\u001b[1;32m    631\u001b[0m       \u001b[0mself\u001b[0m\u001b[0;34m.\u001b[0m\u001b[0m_self_setattr_tracking\u001b[0m \u001b[0;34m=\u001b[0m \u001b[0mprevious_value\u001b[0m  \u001b[0;31m# pylint: disable=protected-access\u001b[0m\u001b[0;34m\u001b[0m\u001b[0;34m\u001b[0m\u001b[0m\n",
            "\u001b[0;32m/usr/local/lib/python3.7/dist-packages/keras/utils/traceback_utils.py\u001b[0m in \u001b[0;36merror_handler\u001b[0;34m(*args, **kwargs)\u001b[0m\n\u001b[1;32m     65\u001b[0m     \u001b[0;32mexcept\u001b[0m \u001b[0mException\u001b[0m \u001b[0;32mas\u001b[0m \u001b[0me\u001b[0m\u001b[0;34m:\u001b[0m  \u001b[0;31m# pylint: disable=broad-except\u001b[0m\u001b[0;34m\u001b[0m\u001b[0;34m\u001b[0m\u001b[0m\n\u001b[1;32m     66\u001b[0m       \u001b[0mfiltered_tb\u001b[0m \u001b[0;34m=\u001b[0m \u001b[0m_process_traceback_frames\u001b[0m\u001b[0;34m(\u001b[0m\u001b[0me\u001b[0m\u001b[0;34m.\u001b[0m\u001b[0m__traceback__\u001b[0m\u001b[0;34m)\u001b[0m\u001b[0;34m\u001b[0m\u001b[0;34m\u001b[0m\u001b[0m\n\u001b[0;32m---> 67\u001b[0;31m       \u001b[0;32mraise\u001b[0m \u001b[0me\u001b[0m\u001b[0;34m.\u001b[0m\u001b[0mwith_traceback\u001b[0m\u001b[0;34m(\u001b[0m\u001b[0mfiltered_tb\u001b[0m\u001b[0;34m)\u001b[0m \u001b[0;32mfrom\u001b[0m \u001b[0;32mNone\u001b[0m\u001b[0;34m\u001b[0m\u001b[0;34m\u001b[0m\u001b[0m\n\u001b[0m\u001b[1;32m     68\u001b[0m     \u001b[0;32mfinally\u001b[0m\u001b[0;34m:\u001b[0m\u001b[0;34m\u001b[0m\u001b[0;34m\u001b[0m\u001b[0m\n\u001b[1;32m     69\u001b[0m       \u001b[0;32mdel\u001b[0m \u001b[0mfiltered_tb\u001b[0m\u001b[0;34m\u001b[0m\u001b[0;34m\u001b[0m\u001b[0m\n",
            "\u001b[0;32m/usr/local/lib/python3.7/dist-packages/keras/engine/input_spec.py\u001b[0m in \u001b[0;36massert_input_compatibility\u001b[0;34m(input_spec, inputs, layer_name)\u001b[0m\n\u001b[1;32m    212\u001b[0m       \u001b[0mndim\u001b[0m \u001b[0;34m=\u001b[0m \u001b[0mshape\u001b[0m\u001b[0;34m.\u001b[0m\u001b[0mrank\u001b[0m\u001b[0;34m\u001b[0m\u001b[0;34m\u001b[0m\u001b[0m\n\u001b[1;32m    213\u001b[0m       \u001b[0;32mif\u001b[0m \u001b[0mndim\u001b[0m \u001b[0;34m!=\u001b[0m \u001b[0mspec\u001b[0m\u001b[0;34m.\u001b[0m\u001b[0mndim\u001b[0m\u001b[0;34m:\u001b[0m\u001b[0;34m\u001b[0m\u001b[0;34m\u001b[0m\u001b[0m\n\u001b[0;32m--> 214\u001b[0;31m         raise ValueError(f'Input {input_index} of layer \"{layer_name}\" '\n\u001b[0m\u001b[1;32m    215\u001b[0m                          \u001b[0;34m'is incompatible with the layer: '\u001b[0m\u001b[0;34m\u001b[0m\u001b[0;34m\u001b[0m\u001b[0m\n\u001b[1;32m    216\u001b[0m                          \u001b[0;34mf'expected ndim={spec.ndim}, found ndim={ndim}. '\u001b[0m\u001b[0;34m\u001b[0m\u001b[0;34m\u001b[0m\u001b[0m\n",
            "\u001b[0;31mValueError\u001b[0m: Input 0 of layer \"lstm_5\" is incompatible with the layer: expected ndim=3, found ndim=2. Full shape received: (None, 20)"
          ]
        }
      ],
      "source": [
        "model1 = Sequential()\n",
        "model1.add(LSTM(units=20, input_shape=(X2_train.shape[1], X2_train.shape[2]))) #input_shape takes time steps and features\n",
        "#model1.add(LSTM(units=10))#, input_shape=(X2_train.shape[1], X2_train.shape[2])))\n",
        "#model.add(SimpleRNN(units=10))#, input_shape=(X2_train.shape[1], X2_train.shape[2])))\n",
        "model1.add(Dense(1))\n",
        "\n",
        "model1.compile(loss='mean_squared_error', optimizer='sgd')\n",
        "\n",
        "model1.summary()"
      ]
    },
    {
      "cell_type": "code",
      "execution_count": null,
      "metadata": {
        "colab": {
          "base_uri": "https://localhost:8080/"
        },
        "id": "oqmibWSrBfaV",
        "outputId": "39b69aec-a232-4822-a326-9dfa0809032a"
      },
      "outputs": [
        {
          "name": "stdout",
          "output_type": "stream",
          "text": [
            "Epoch 1/50\n",
            "68/68 [==============================] - 2s 5ms/step - loss: 12.2402\n",
            "Epoch 2/50\n",
            "68/68 [==============================] - 0s 5ms/step - loss: 2.8606\n",
            "Epoch 3/50\n",
            "68/68 [==============================] - 0s 5ms/step - loss: 2.8532\n",
            "Epoch 4/50\n",
            "68/68 [==============================] - 0s 5ms/step - loss: 2.9121\n",
            "Epoch 5/50\n",
            "68/68 [==============================] - 0s 6ms/step - loss: 2.8518\n",
            "Epoch 6/50\n",
            "68/68 [==============================] - 0s 5ms/step - loss: 2.8372\n",
            "Epoch 7/50\n",
            "68/68 [==============================] - 0s 5ms/step - loss: 2.8597\n",
            "Epoch 8/50\n",
            "68/68 [==============================] - 0s 5ms/step - loss: 2.8779\n",
            "Epoch 9/50\n",
            "68/68 [==============================] - 0s 5ms/step - loss: 2.8231\n",
            "Epoch 10/50\n",
            "68/68 [==============================] - 0s 5ms/step - loss: 2.8742\n",
            "Epoch 11/50\n",
            "68/68 [==============================] - 0s 5ms/step - loss: 2.8675\n",
            "Epoch 12/50\n",
            "68/68 [==============================] - 0s 5ms/step - loss: 2.8910\n",
            "Epoch 13/50\n",
            "68/68 [==============================] - 0s 5ms/step - loss: 2.9204\n",
            "Epoch 14/50\n",
            "68/68 [==============================] - 0s 5ms/step - loss: 2.8681\n",
            "Epoch 15/50\n",
            "68/68 [==============================] - 0s 5ms/step - loss: 2.9009\n",
            "Epoch 16/50\n",
            "68/68 [==============================] - 0s 6ms/step - loss: 2.8612\n",
            "Epoch 17/50\n",
            "68/68 [==============================] - 0s 5ms/step - loss: 2.8738\n",
            "Epoch 18/50\n",
            "68/68 [==============================] - 0s 5ms/step - loss: 2.8332\n",
            "Epoch 19/50\n",
            "68/68 [==============================] - 0s 6ms/step - loss: 2.8516\n",
            "Epoch 20/50\n",
            "68/68 [==============================] - 0s 6ms/step - loss: 2.8457\n",
            "Epoch 21/50\n",
            "68/68 [==============================] - 0s 5ms/step - loss: 2.8262\n",
            "Epoch 22/50\n",
            "68/68 [==============================] - 0s 5ms/step - loss: 2.9099\n",
            "Epoch 23/50\n",
            "68/68 [==============================] - 0s 5ms/step - loss: 2.8652\n",
            "Epoch 24/50\n",
            "68/68 [==============================] - 0s 5ms/step - loss: 2.8379\n",
            "Epoch 25/50\n",
            "68/68 [==============================] - 0s 5ms/step - loss: 2.8848\n",
            "Epoch 26/50\n",
            "68/68 [==============================] - 0s 5ms/step - loss: 2.8430\n",
            "Epoch 27/50\n",
            "68/68 [==============================] - 0s 5ms/step - loss: 2.8714\n",
            "Epoch 28/50\n",
            "68/68 [==============================] - 0s 5ms/step - loss: 2.9075\n",
            "Epoch 29/50\n",
            "68/68 [==============================] - 0s 5ms/step - loss: 2.8420\n",
            "Epoch 30/50\n",
            "68/68 [==============================] - 0s 5ms/step - loss: 2.9029\n",
            "Epoch 31/50\n",
            "68/68 [==============================] - 0s 5ms/step - loss: 2.8721\n",
            "Epoch 32/50\n",
            "68/68 [==============================] - 0s 5ms/step - loss: 2.8339\n",
            "Epoch 33/50\n",
            "68/68 [==============================] - 0s 5ms/step - loss: 2.8934\n",
            "Epoch 34/50\n",
            "68/68 [==============================] - 0s 5ms/step - loss: 2.8495\n",
            "Epoch 35/50\n",
            "68/68 [==============================] - 0s 5ms/step - loss: 2.9007\n",
            "Epoch 36/50\n",
            "68/68 [==============================] - 0s 5ms/step - loss: 2.9062\n",
            "Epoch 37/50\n",
            "68/68 [==============================] - 0s 5ms/step - loss: 2.8868\n",
            "Epoch 38/50\n",
            "68/68 [==============================] - 0s 5ms/step - loss: 2.8395\n",
            "Epoch 39/50\n",
            "68/68 [==============================] - 0s 5ms/step - loss: 2.8551\n",
            "Epoch 40/50\n",
            "68/68 [==============================] - 0s 5ms/step - loss: 2.8023\n",
            "Epoch 41/50\n",
            "68/68 [==============================] - 0s 5ms/step - loss: 2.9084\n",
            "Epoch 42/50\n",
            "68/68 [==============================] - 0s 5ms/step - loss: 2.9298\n",
            "Epoch 43/50\n",
            "68/68 [==============================] - 0s 5ms/step - loss: 2.9302\n",
            "Epoch 44/50\n",
            "68/68 [==============================] - 0s 5ms/step - loss: 2.8650\n",
            "Epoch 45/50\n",
            "68/68 [==============================] - 0s 5ms/step - loss: 2.8136\n",
            "Epoch 46/50\n",
            "68/68 [==============================] - 0s 5ms/step - loss: 2.8958\n",
            "Epoch 47/50\n",
            "68/68 [==============================] - 0s 5ms/step - loss: 2.8941\n",
            "Epoch 48/50\n",
            "68/68 [==============================] - 0s 5ms/step - loss: 2.8402\n",
            "Epoch 49/50\n",
            "68/68 [==============================] - 0s 5ms/step - loss: 2.8512\n",
            "Epoch 50/50\n",
            "68/68 [==============================] - 0s 5ms/step - loss: 2.8758\n"
          ]
        },
        {
          "data": {
            "text/plain": [
              "<keras.callbacks.History at 0x7f0fad470150>"
            ]
          },
          "execution_count": 41,
          "metadata": {},
          "output_type": "execute_result"
        }
      ],
      "source": [
        "nb_epoch = 50\n",
        "\n",
        "model1.fit(X2_train, y2_train, epochs=nb_epoch)"
      ]
    },
    {
      "cell_type": "code",
      "execution_count": null,
      "metadata": {
        "id": "iHhCR1thBfXy"
      },
      "outputs": [],
      "source": []
    },
    {
      "cell_type": "code",
      "execution_count": null,
      "metadata": {
        "id": "VOL5BddsJy_l"
      },
      "outputs": [],
      "source": [
        "import matplotlib.pyplot as plt"
      ]
    },
    {
      "cell_type": "code",
      "execution_count": null,
      "metadata": {
        "colab": {
          "base_uri": "https://localhost:8080/",
          "height": 206
        },
        "id": "0Lpkc_ectHt0",
        "outputId": "a02489ed-188e-4082-ebc3-f1ad10ba8372"
      },
      "outputs": [
        {
          "data": {
            "text/html": [
              "\n",
              "  <div id=\"df-d872e94f-4e4b-42df-84d7-917109f857d5\">\n",
              "    <div class=\"colab-df-container\">\n",
              "      <div>\n",
              "<style scoped>\n",
              "    .dataframe tbody tr th:only-of-type {\n",
              "        vertical-align: middle;\n",
              "    }\n",
              "\n",
              "    .dataframe tbody tr th {\n",
              "        vertical-align: top;\n",
              "    }\n",
              "\n",
              "    .dataframe thead th {\n",
              "        text-align: right;\n",
              "    }\n",
              "</style>\n",
              "<table border=\"1\" class=\"dataframe\">\n",
              "  <thead>\n",
              "    <tr style=\"text-align: right;\">\n",
              "      <th></th>\n",
              "      <th>YEAR</th>\n",
              "      <th>MO</th>\n",
              "      <th>DY</th>\n",
              "      <th>HR</th>\n",
              "      <th>PS</th>\n",
              "      <th>WS10M</th>\n",
              "      <th>WD10M</th>\n",
              "      <th>WS50M</th>\n",
              "      <th>RH2M</th>\n",
              "      <th>PRECTOTCORR</th>\n",
              "      <th>T2M</th>\n",
              "    </tr>\n",
              "  </thead>\n",
              "  <tbody>\n",
              "    <tr>\n",
              "      <th>0</th>\n",
              "      <td>2020</td>\n",
              "      <td>5</td>\n",
              "      <td>1</td>\n",
              "      <td>0</td>\n",
              "      <td>101.05</td>\n",
              "      <td>2.49</td>\n",
              "      <td>264.79</td>\n",
              "      <td>3.32</td>\n",
              "      <td>90.12</td>\n",
              "      <td>0.08</td>\n",
              "      <td>26.15</td>\n",
              "    </tr>\n",
              "    <tr>\n",
              "      <th>1</th>\n",
              "      <td>2020</td>\n",
              "      <td>5</td>\n",
              "      <td>1</td>\n",
              "      <td>1</td>\n",
              "      <td>100.97</td>\n",
              "      <td>2.31</td>\n",
              "      <td>260.06</td>\n",
              "      <td>3.05</td>\n",
              "      <td>90.25</td>\n",
              "      <td>0.12</td>\n",
              "      <td>26.02</td>\n",
              "    </tr>\n",
              "    <tr>\n",
              "      <th>2</th>\n",
              "      <td>2020</td>\n",
              "      <td>5</td>\n",
              "      <td>1</td>\n",
              "      <td>2</td>\n",
              "      <td>100.92</td>\n",
              "      <td>2.20</td>\n",
              "      <td>254.14</td>\n",
              "      <td>2.85</td>\n",
              "      <td>90.19</td>\n",
              "      <td>0.19</td>\n",
              "      <td>25.91</td>\n",
              "    </tr>\n",
              "    <tr>\n",
              "      <th>3</th>\n",
              "      <td>2020</td>\n",
              "      <td>5</td>\n",
              "      <td>1</td>\n",
              "      <td>3</td>\n",
              "      <td>100.90</td>\n",
              "      <td>2.23</td>\n",
              "      <td>250.36</td>\n",
              "      <td>2.88</td>\n",
              "      <td>90.00</td>\n",
              "      <td>0.19</td>\n",
              "      <td>25.87</td>\n",
              "    </tr>\n",
              "    <tr>\n",
              "      <th>4</th>\n",
              "      <td>2020</td>\n",
              "      <td>5</td>\n",
              "      <td>1</td>\n",
              "      <td>4</td>\n",
              "      <td>100.92</td>\n",
              "      <td>2.24</td>\n",
              "      <td>247.20</td>\n",
              "      <td>2.88</td>\n",
              "      <td>90.00</td>\n",
              "      <td>0.15</td>\n",
              "      <td>25.83</td>\n",
              "    </tr>\n",
              "  </tbody>\n",
              "</table>\n",
              "</div>\n",
              "      <button class=\"colab-df-convert\" onclick=\"convertToInteractive('df-d872e94f-4e4b-42df-84d7-917109f857d5')\"\n",
              "              title=\"Convert this dataframe to an interactive table.\"\n",
              "              style=\"display:none;\">\n",
              "        \n",
              "  <svg xmlns=\"http://www.w3.org/2000/svg\" height=\"24px\"viewBox=\"0 0 24 24\"\n",
              "       width=\"24px\">\n",
              "    <path d=\"M0 0h24v24H0V0z\" fill=\"none\"/>\n",
              "    <path d=\"M18.56 5.44l.94 2.06.94-2.06 2.06-.94-2.06-.94-.94-2.06-.94 2.06-2.06.94zm-11 1L8.5 8.5l.94-2.06 2.06-.94-2.06-.94L8.5 2.5l-.94 2.06-2.06.94zm10 10l.94 2.06.94-2.06 2.06-.94-2.06-.94-.94-2.06-.94 2.06-2.06.94z\"/><path d=\"M17.41 7.96l-1.37-1.37c-.4-.4-.92-.59-1.43-.59-.52 0-1.04.2-1.43.59L10.3 9.45l-7.72 7.72c-.78.78-.78 2.05 0 2.83L4 21.41c.39.39.9.59 1.41.59.51 0 1.02-.2 1.41-.59l7.78-7.78 2.81-2.81c.8-.78.8-2.07 0-2.86zM5.41 20L4 18.59l7.72-7.72 1.47 1.35L5.41 20z\"/>\n",
              "  </svg>\n",
              "      </button>\n",
              "      \n",
              "  <style>\n",
              "    .colab-df-container {\n",
              "      display:flex;\n",
              "      flex-wrap:wrap;\n",
              "      gap: 12px;\n",
              "    }\n",
              "\n",
              "    .colab-df-convert {\n",
              "      background-color: #E8F0FE;\n",
              "      border: none;\n",
              "      border-radius: 50%;\n",
              "      cursor: pointer;\n",
              "      display: none;\n",
              "      fill: #1967D2;\n",
              "      height: 32px;\n",
              "      padding: 0 0 0 0;\n",
              "      width: 32px;\n",
              "    }\n",
              "\n",
              "    .colab-df-convert:hover {\n",
              "      background-color: #E2EBFA;\n",
              "      box-shadow: 0px 1px 2px rgba(60, 64, 67, 0.3), 0px 1px 3px 1px rgba(60, 64, 67, 0.15);\n",
              "      fill: #174EA6;\n",
              "    }\n",
              "\n",
              "    [theme=dark] .colab-df-convert {\n",
              "      background-color: #3B4455;\n",
              "      fill: #D2E3FC;\n",
              "    }\n",
              "\n",
              "    [theme=dark] .colab-df-convert:hover {\n",
              "      background-color: #434B5C;\n",
              "      box-shadow: 0px 1px 3px 1px rgba(0, 0, 0, 0.15);\n",
              "      filter: drop-shadow(0px 1px 2px rgba(0, 0, 0, 0.3));\n",
              "      fill: #FFFFFF;\n",
              "    }\n",
              "  </style>\n",
              "\n",
              "      <script>\n",
              "        const buttonEl =\n",
              "          document.querySelector('#df-d872e94f-4e4b-42df-84d7-917109f857d5 button.colab-df-convert');\n",
              "        buttonEl.style.display =\n",
              "          google.colab.kernel.accessAllowed ? 'block' : 'none';\n",
              "\n",
              "        async function convertToInteractive(key) {\n",
              "          const element = document.querySelector('#df-d872e94f-4e4b-42df-84d7-917109f857d5');\n",
              "          const dataTable =\n",
              "            await google.colab.kernel.invokeFunction('convertToInteractive',\n",
              "                                                     [key], {});\n",
              "          if (!dataTable) return;\n",
              "\n",
              "          const docLinkHtml = 'Like what you see? Visit the ' +\n",
              "            '<a target=\"_blank\" href=https://colab.research.google.com/notebooks/data_table.ipynb>data table notebook</a>'\n",
              "            + ' to learn more about interactive tables.';\n",
              "          element.innerHTML = '';\n",
              "          dataTable['output_type'] = 'display_data';\n",
              "          await google.colab.output.renderOutput(dataTable, element);\n",
              "          const docLink = document.createElement('div');\n",
              "          docLink.innerHTML = docLinkHtml;\n",
              "          element.appendChild(docLink);\n",
              "        }\n",
              "      </script>\n",
              "    </div>\n",
              "  </div>\n",
              "  "
            ],
            "text/plain": [
              "   YEAR  MO  DY  HR      PS  WS10M   WD10M  WS50M   RH2M  PRECTOTCORR    T2M\n",
              "0  2020   5   1   0  101.05   2.49  264.79   3.32  90.12         0.08  26.15\n",
              "1  2020   5   1   1  100.97   2.31  260.06   3.05  90.25         0.12  26.02\n",
              "2  2020   5   1   2  100.92   2.20  254.14   2.85  90.19         0.19  25.91\n",
              "3  2020   5   1   3  100.90   2.23  250.36   2.88  90.00         0.19  25.87\n",
              "4  2020   5   1   4  100.92   2.24  247.20   2.88  90.00         0.15  25.83"
            ]
          },
          "execution_count": 27,
          "metadata": {},
          "output_type": "execute_result"
        }
      ],
      "source": [
        "df1.head()"
      ]
    },
    {
      "cell_type": "code",
      "execution_count": null,
      "metadata": {
        "colab": {
          "base_uri": "https://localhost:8080/",
          "height": 282
        },
        "id": "yBzcBLJpsysk",
        "outputId": "68d367b4-1e72-4b45-ec51-56673ed385bf"
      },
      "outputs": [
        {
          "data": {
            "text/plain": [
              "[<matplotlib.lines.Line2D at 0x7f4f28a02c50>]"
            ]
          },
          "execution_count": 25,
          "metadata": {},
          "output_type": "execute_result"
        },
        {
          "data": {
            "image/png": "[encoded data removed]",
            "text/plain": [
              "<Figure size 432x288 with 1 Axes>"
            ]
          },
          "metadata": {},
          "output_type": "display_data"
        }
      ],
      "source": [
        "plt.plot(df1['HR'], df1['T2M'])"
      ]
    }
  ],
  "metadata": {
    "accelerator": "GPU",
    "colab": {
      "provenance": []
    },
    "kernelspec": {
      "display_name": "Python 3",
      "name": "python3"
    },
    "language_info": {
      "name": "python"
    }
  },
  "nbformat": 4,
  "nbformat_minor": 0
}